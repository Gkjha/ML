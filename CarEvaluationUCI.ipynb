{
  "nbformat": 4,
  "nbformat_minor": 0,
  "metadata": {
    "colab": {
      "name": "CarEvaluationUCI.ipynb",
      "version": "0.3.2",
      "provenance": []
    },
    "kernelspec": {
      "name": "python3",
      "display_name": "Python 3"
    }
  },
  "cells": [
    {
      "cell_type": "markdown",
      "metadata": {
        "id": "0ljPgI_HOnEv",
        "colab_type": "text"
      },
      "source": [
        "In this we have a dataset which contains data to evaluate a car on the basis of various parameters like no of doors,maintainance cost,buying price,its capacity these are given as its attributes\n",
        "we have to declare that car is what in 4 classes and that is\n",
        "\n",
        "\n",
        "unacc\n",
        "\n",
        "\n",
        "acc\n",
        "\n",
        "good\n",
        "\n",
        "\n",
        "vgood\n",
        "\n",
        "\n",
        "\n",
        "\n",
        "\n",
        "Class Values: \n",
        "\n",
        "unacc, acc, good, vgood \n",
        "\n",
        "Attributes: \n",
        "\n",
        "buying: vhigh, high, med, low.\n",
        "\n",
        "\n",
        "\n",
        "maint: vhigh, high, med, low. \n",
        "\n",
        "\n",
        "\n",
        "doors: 2, 3, 4, 5more. \n",
        "\n",
        "\n",
        "\n",
        "persons: 2, 4, more. \n",
        "\n",
        "\n",
        "\n",
        "lug_boot: small, med, big. \n",
        "\n",
        "\n",
        "safety: low, med, high. \n",
        "\n"
      ]
    },
    {
      "cell_type": "code",
      "metadata": {
        "id": "Uk6cQ206PSRG",
        "colab_type": "code",
        "colab": {}
      },
      "source": [
        "#accessing all required libraries\n",
        "import numpy as np\n",
        "import pandas as pd\n",
        "from sklearn import model_selection,neighbors"
      ],
      "execution_count": 0,
      "outputs": []
    },
    {
      "cell_type": "code",
      "metadata": {
        "id": "QFNSTnrkQCVM",
        "colab_type": "code",
        "colab": {
          "base_uri": "https://localhost:8080/",
          "height": 202
        },
        "outputId": "ebc51895-77d5-4cf6-a445-fa7a346351f4"
      },
      "source": [
        "cars=pd.read_csv('https://archive.ics.uci.edu/ml/machine-learning-databases/car/car.data')\n",
        "print(cars.head(10))"
      ],
      "execution_count": 4,
      "outputs": [
        {
          "output_type": "stream",
          "text": [
            "   vhigh vhigh.1  2 2.1  small   low  unacc\n",
            "0  vhigh   vhigh  2   2  small   med  unacc\n",
            "1  vhigh   vhigh  2   2  small  high  unacc\n",
            "2  vhigh   vhigh  2   2    med   low  unacc\n",
            "3  vhigh   vhigh  2   2    med   med  unacc\n",
            "4  vhigh   vhigh  2   2    med  high  unacc\n",
            "5  vhigh   vhigh  2   2    big   low  unacc\n",
            "6  vhigh   vhigh  2   2    big   med  unacc\n",
            "7  vhigh   vhigh  2   2    big  high  unacc\n",
            "8  vhigh   vhigh  2   4  small   low  unacc\n",
            "9  vhigh   vhigh  2   4  small   med  unacc\n"
          ],
          "name": "stdout"
        }
      ]
    },
    {
      "cell_type": "code",
      "metadata": {
        "id": "8uBNxXoQQcBt",
        "colab_type": "code",
        "colab": {
          "base_uri": "https://localhost:8080/",
          "height": 202
        },
        "outputId": "b420f2aa-f580-48e4-c0e4-7b1bfecf77ee"
      },
      "source": [
        "col_names=['Buying','Maintainance','Door','Persons','Boot_luggage','Safety','Result']\n",
        "cars.columns=col_names\n",
        "print(cars.head(10))"
      ],
      "execution_count": 5,
      "outputs": [
        {
          "output_type": "stream",
          "text": [
            "  Buying Maintainance Door Persons Boot_luggage Safety Result\n",
            "0  vhigh        vhigh    2       2        small    med  unacc\n",
            "1  vhigh        vhigh    2       2        small   high  unacc\n",
            "2  vhigh        vhigh    2       2          med    low  unacc\n",
            "3  vhigh        vhigh    2       2          med    med  unacc\n",
            "4  vhigh        vhigh    2       2          med   high  unacc\n",
            "5  vhigh        vhigh    2       2          big    low  unacc\n",
            "6  vhigh        vhigh    2       2          big    med  unacc\n",
            "7  vhigh        vhigh    2       2          big   high  unacc\n",
            "8  vhigh        vhigh    2       4        small    low  unacc\n",
            "9  vhigh        vhigh    2       4        small    med  unacc\n"
          ],
          "name": "stdout"
        }
      ]
    },
    {
      "cell_type": "code",
      "metadata": {
        "id": "zFoBMgnzRUO3",
        "colab_type": "code",
        "colab": {}
      },
      "source": [
        "#To Handle Non Numeric Data before fitting in classifier, we define a function to change the non numeric data into integers\n",
        "def TextToNumber(df):\n",
        "  columns=df.columns.values\n",
        "  for column in columns:\n",
        "    parseddata={}\n",
        "    def ConvertToInt(value):\n",
        "      return parseddata[value]\n",
        "    if(df[column].dtype!=np.int64 and df[column].dtype!=np.float64):\n",
        "      column_contents=df[column].values.tolist()\n",
        "      unique_elements=set(column_contents)\n",
        "      x=0\n",
        "      for unique in unique_elements:\n",
        "        if unique not in parseddata:\n",
        "          parseddata[unique]=x\n",
        "          x=x+1\n",
        "      df[column]=list(map(ConvertToInt,df[column]))\n",
        "  return df  \n",
        "#Function Ends"
      ],
      "execution_count": 0,
      "outputs": []
    },
    {
      "cell_type": "code",
      "metadata": {
        "id": "nheatzs_R3HX",
        "colab_type": "code",
        "colab": {
          "base_uri": "https://localhost:8080/",
          "height": 118
        },
        "outputId": "28f107f1-4d01-414b-aeda-d3d6362ffebe"
      },
      "source": [
        "y=np.array(cars['Result'])\n",
        "X=np.array(TextToNumber(cars.drop(['Result'],1)))\n",
        "\n",
        "print(X[:5])\n",
        "print(y[:5])"
      ],
      "execution_count": 7,
      "outputs": [
        {
          "output_type": "stream",
          "text": [
            "[[3 3 2 2 1 0]\n",
            " [3 3 2 2 1 1]\n",
            " [3 3 2 2 2 2]\n",
            " [3 3 2 2 2 0]\n",
            " [3 3 2 2 2 1]]\n",
            "['unacc' 'unacc' 'unacc' 'unacc' 'unacc']\n"
          ],
          "name": "stdout"
        }
      ]
    },
    {
      "cell_type": "code",
      "metadata": {
        "id": "DtpbVb30SBIG",
        "colab_type": "code",
        "colab": {
          "base_uri": "https://localhost:8080/",
          "height": 67
        },
        "outputId": "75752055-2a87-4c8f-f0ce-7cd46d4bb41a"
      },
      "source": [
        "X_train,X_test,Y_train,Y_test=model_selection.train_test_split(X,y,test_size=0.2)\n",
        "clf=neighbors.KNeighborsClassifier()\n",
        "\n",
        "clf.fit(X_train,Y_train)"
      ],
      "execution_count": 8,
      "outputs": [
        {
          "output_type": "execute_result",
          "data": {
            "text/plain": [
              "KNeighborsClassifier(algorithm='auto', leaf_size=30, metric='minkowski',\n",
              "                     metric_params=None, n_jobs=None, n_neighbors=5, p=2,\n",
              "                     weights='uniform')"
            ]
          },
          "metadata": {
            "tags": []
          },
          "execution_count": 8
        }
      ]
    },
    {
      "cell_type": "code",
      "metadata": {
        "id": "_oxgnhK8SL80",
        "colab_type": "code",
        "colab": {
          "base_uri": "https://localhost:8080/",
          "height": 84
        },
        "outputId": "3000f570-1824-433c-dcce-40c21865b0cb"
      },
      "source": [
        "predictdata=pd.concat([pd.Series(['vhigh']),pd.Series(['low']),pd.Series([2]),pd.Series(['more']),pd.Series(['med']),pd.Series(['low'])], axis=1)\n",
        "print(predictdata)\n",
        "predictdata=np.array(TextToNumber(predictdata))\n",
        "print(predictdata)\n",
        "predictdata.shape=(1,-1)\n",
        "#print(predictdata)\n",
        "prediction=clf.predict(predictdata)\n",
        "print(prediction)"
      ],
      "execution_count": 21,
      "outputs": [
        {
          "output_type": "stream",
          "text": [
            "       0    1  2     3    4    5\n",
            "0  vhigh  low  2  more  med  low\n",
            "[[0 0 2 0 0 0]]\n",
            "['acc']\n"
          ],
          "name": "stdout"
        }
      ]
    }
  ]
}