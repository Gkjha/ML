{
  "nbformat": 4,
  "nbformat_minor": 0,
  "metadata": {
    "colab": {
      "name": "bcancer",
      "version": "0.3.2",
      "provenance": []
    },
    "kernelspec": {
      "name": "python3",
      "display_name": "Python 3"
    }
  },
  "cells": [
    {
      "cell_type": "code",
      "metadata": {
        "id": "d2AHDzeRJll0",
        "colab_type": "code",
        "outputId": "4a5c997e-f970-4ea7-a146-e270babd6cc4",
        "colab": {
          "base_uri": "https://localhost:8080/",
          "height": 151
        }
      },
      "source": [
        "#PRE PROCESSING PART\n",
        "\n",
        "import numpy as np\n",
        "from sklearn import preprocessing , neighbors , svm , model_selection\n",
        "import pandas as pd\n",
        "\n",
        "df= pd.read_csv('https://archive.ics.uci.edu/ml/machine-learning-databases/breast-cancer-wisconsin/breast-cancer-wisconsin.data')\n",
        "df.replace('?',-99999,inplace=True)\n",
        "col_names=['id','clump_thickness','cell_size','cell shape','adhesion','epithelial','nuclei','brandchlomatin','nucleoli','mitoses','class']\n",
        "df.columns=col_names\n",
        "print(df.head())\n",
        "df.drop(['id'],1,inplace=True)\n",
        "\n",
        "X=np.array(df.drop(['class'],1))\n",
        "y=np.array(df['class'])\n",
        "\n",
        "X_train,X_test,y_train,y_test = model_selection.train_test_split(X,y,test_size=0.2)"
      ],
      "execution_count": 1,
      "outputs": [
        {
          "output_type": "stream",
          "text": [
            "        id  clump_thickness  cell_size  ...  nucleoli  mitoses  class\n",
            "0  1002945                5          4  ...         2        1      2\n",
            "1  1015425                3          1  ...         1        1      2\n",
            "2  1016277                6          8  ...         7        1      2\n",
            "3  1017023                4          1  ...         1        1      2\n",
            "4  1017122                8         10  ...         7        1      4\n",
            "\n",
            "[5 rows x 11 columns]\n"
          ],
          "name": "stdout"
        }
      ]
    },
    {
      "cell_type": "code",
      "metadata": {
        "id": "vXt6Yr6YNNat",
        "colab_type": "code",
        "outputId": "007ce41d-431b-46ab-a89b-164003f53bcc",
        "colab": {
          "base_uri": "https://localhost:8080/",
          "height": 50
        }
      },
      "source": [
        "clf=neighbors.KNeighborsClassifier()\n",
        "clf.fit(X_train,y_train)\n",
        "confidence=clf.score(X_test,y_test)\n",
        "print(\"Confidence is  :-  \", int(confidence*100),'%')\n",
        "\n",
        "example_measures=np.array([4,.2,1,1,1,2,3,2,1])\n",
        "example_measures.shape=(1,-1)\n",
        "prediction=clf.predict(example_measures)\n",
        "print('Cancer state : ','Benign' if prediction==2 else 'Malignant')"
      ],
      "execution_count": 2,
      "outputs": [
        {
          "output_type": "stream",
          "text": [
            "Confidence is  :-   97 %\n",
            "Cancer state :  Benign\n"
          ],
          "name": "stdout"
        }
      ]
    },
    {
      "cell_type": "code",
      "metadata": {
        "id": "-B6zvDm5YqOS",
        "colab_type": "code",
        "colab": {}
      },
      "source": [
        "from sklearn.pipeline import Pipeline\n",
        "from sklearn.model_selection import train_test_split , GridSearchCV\n",
        "\n",
        "pipeline=Pipeline([('clf',svm.SVC(kernel='linear',C=1,gamma=.1))])\n",
        "params={'clf_C': (0.1,0.5,1,2,5,10,20)\n",
        "    \n",
        "}"
      ],
      "execution_count": 0,
      "outputs": []
    },
    {
      "cell_type": "code",
      "metadata": {
        "id": "g1zA2HRARHtD",
        "colab_type": "code",
        "colab": {
          "base_uri": "https://localhost:8080/",
          "height": 104
        },
        "outputId": "47226256-bc5c-40b1-bd99-5a4ab9303315"
      },
      "source": [
        "clf=svm.SVC()\n",
        "clf.fit(X_train,y_train)\n",
        "confidence=clf.score(X_test,y_test)\n",
        "print(\"Confidence is  :-  \", int(confidence*100),'%')\n",
        "\n",
        "example_measures=np.array([4,.2,1,1,1,2,3,2,1])\n",
        "example_measures.shape=(1,-1)\n",
        "prediction=clf.predict(example_measures)\n",
        "print('Cancer state : ','Benign' if prediction==2 else 'Malignant')"
      ],
      "execution_count": 4,
      "outputs": [
        {
          "output_type": "stream",
          "text": [
            "Confidence is  :-   95 %\n",
            "Cancer state :  Benign\n"
          ],
          "name": "stdout"
        },
        {
          "output_type": "stream",
          "text": [
            "/usr/local/lib/python3.6/dist-packages/sklearn/svm/base.py:193: FutureWarning: The default value of gamma will change from 'auto' to 'scale' in version 0.22 to account better for unscaled features. Set gamma explicitly to 'auto' or 'scale' to avoid this warning.\n",
            "  \"avoid this warning.\", FutureWarning)\n"
          ],
          "name": "stderr"
        }
      ]
    },
    {
      "cell_type": "code",
      "metadata": {
        "id": "Vd4wPtMCUTKD",
        "colab_type": "code",
        "colab": {
          "base_uri": "https://localhost:8080/",
          "height": 84
        },
        "outputId": "e2919b43-5a65-418f-dda5-7e07112c1070"
      },
      "source": [
        "print(clf)"
      ],
      "execution_count": 5,
      "outputs": [
        {
          "output_type": "stream",
          "text": [
            "SVC(C=1.0, cache_size=200, class_weight=None, coef0=0.0,\n",
            "    decision_function_shape='ovr', degree=3, gamma='auto_deprecated',\n",
            "    kernel='rbf', max_iter=-1, probability=False, random_state=None,\n",
            "    shrinking=True, tol=0.001, verbose=False)\n"
          ],
          "name": "stdout"
        }
      ]
    }
  ]
}